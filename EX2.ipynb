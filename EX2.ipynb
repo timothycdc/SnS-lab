{
 "cells": [
  {
   "cell_type": "markdown",
   "id": "e2ef4e82",
   "metadata": {
    "deletable": false,
    "editable": false
   },
   "source": [
    "# Exercise 2 - Effects of Sampling (45 mins)\n",
    "\n",
    "## Objectives\n",
    "- To understand the effects of sampling in the time and frequency domains \n",
    "- To understand why sampling might cause aliasing \n",
    "\n",
    "## Video ([Backup Link](https://www.youtube.com/watch?v=XQllBh3W21E))"
   ]
  },
  {
   "cell_type": "code",
   "execution_count": 3,
   "id": "77cf2839",
   "metadata": {
    "deletable": false,
    "editable": false
   },
   "outputs": [
    {
     "data": {
      "text/html": [
       "<script> code_show=true;function code_toggle() {if (code_show){$('.cm-comment:contains(@hidden)').closest('div.input').hide();} else {$('.cm-comment:contains(@hidden)').closest('div.input').show();}code_show = !code_show} $( document ).ready(code_toggle);</script><center><iframe width=\"560\" height=\"315\" src=\"https://www.youtube.com/embed/XQllBh3W21E?rel=0&amp;controls=0&amp;showinfo=0\" frameborder=\"0\" allowfullscreen></iframe></center>"
      ],
      "text/plain": [
       "<IPython.core.display.HTML object>"
      ]
     },
     "execution_count": 3,
     "metadata": {},
     "output_type": "execute_result"
    }
   ],
   "source": [
    "# Embed Youtube video\n",
    "from IPython.display import HTML \n",
    "HTML('''<script> code_show=true;function code_toggle() {if (code_show){$('.cm-comment:contains(@hidden)').closest('div.input').hide();} else {$('.cm-comment:contains(@hidden)').closest('div.input').show();}code_show = !code_show} $( document ).ready(code_toggle);</script><center><iframe width=\"560\" height=\"315\" src=\"https://www.youtube.com/embed/XQllBh3W21E?rel=0&amp;controls=0&amp;showinfo=0\" frameborder=\"0\" allowfullscreen></iframe></center>''') # @hidden"
   ]
  },
  {
   "cell_type": "markdown",
   "id": "242c9f06",
   "metadata": {
    "deletable": false,
    "editable": false
   },
   "source": [
    "## Lab Exercise\n",
    "Let us start by thinking about the sampling process in the time domain as shown in Fig. 2.1. It may be interpreted as the multiplication between a continuous-time domain signal $x(t)$ and a train of impulses $s(t)$.\n",
    "\n",
    "<img src=\"img/ex2_1.svg\" alt=\"drawing\" width=\"900\" style = \"background-color:white\" />\n",
    "<center>Figure 2.1: The sampling process of an continuous-time signal</center>\n",
    "\n",
    "Observe that $x_s(t) = x(t)\\times s(t) = \\sum_n x(nT)\\delta(t-nT),$ where $-\\infty < n < \\infty$ and $T=1/f_s$. This is still a continuous-time signal (variable $t$) which are zero-valued for $t \\neq nT$ and should not be confused with the discrete-time signal $x[n]$, which comprises the signal amplitudes at the sampling instances and only exists for $n=0,1,2,\\cdots$.\n",
    "\n",
    "Now think about $x(t)$ and $s(t)$ and their frequency domain representations which are shown in Fig. 2.2. \n",
    "\n",
    "<img src=\"img/ex2_2.svg\" alt=\"drawing\" style = \"background-color:white\" width=\"900\"/>\n",
    "<center>Figure 2.2: Frequency domain representation of $$x(t)$$ and $$s(t)$$</center>\n",
    "\n",
    "\n",
    "You may recall that multiplication in the time domain is equivalent to convolution in the frequency domain. Therefore, the dual of $x_s(t) =x(t) \\times s(t)$ in the time domain is $X_s(j\\omega) = X(j\\omega) * S(j\\omega)$ in the frequency domain, where '$*$' denotes the linear convolution. \n",
    "\n",
    "Thus, $X_s(j\\omega)$ is a periodic function of frequency $\\omega$, consisting of the sum of shifted and scaled replicas of $X(j\\omega)$, shifted by integer multiples of $\\omega_s$ and scaled by $\\frac{1}{T}$. \n",
    "\n",
    "\n",
    "<img src=\"img/ex2_3.svg\" alt=\"drawing\" width=\"900\" style = \"background-color:white\" />\n",
    "<center>Figure 2.3: A sampled sine wave and its spectrum</center>\n",
    "\n",
    "### Sampling Theorem\n",
    "\n",
    "Sampling, therefore, has the effect of creating spectral images at each and every integer multiple of $\\omega_s$. Thus, to avoid corruption of information arising from overlapping spectral images (this distortion is called aliasing), the following condition must be met: \n",
    "\n",
    "---\n",
    "**Definition**:\n",
    "$$|\\omega_m|  < \\frac{\\omega_s}{2} \\: \\text{(Nyquist frequency)}, \\quad \\text{where } \\omega_s  =2\\pi f_s =2\\pi/T_s \\quad \\implies \\quad |\\Omega|  < \\pi $$\n",
    "\n",
    "---\n",
    "\n",
    "The frequency $\\omega_s/2$ is called the Nyquist frequency. If $\\omega_m$ is the highest frequency component in the signal, then sampling at a rate (frequency) above twice the maximum signal frequency, $\\omega_s>|2\\omega_m|$, is called *oversampling*. Sampling at a rate below twice this signal frequency, $\\omega_s<|2\\omega_m|$, is called *undersampling*. Lastly, sampling at a rate exactly twice this maximum signal frequency, $\\omega_s=|2\\omega_m|$, is called *critical sampling*.\n",
    "\n",
    "To see aliasing in action, let us generate some more plots using `sinegen` function by setting $N=100$, $f_s=8000$Hz and varying:\n",
    "\n",
    "$(\\text{i}) \\:  f=150$Hz, $\\quad  (\\text{ii}) \\: f=300$Hz, $\\quad (\\text{iii}) \\: f=600$Hz \n",
    "\n",
    "$(\\text{iv}) \\:  f=7400$Hz, $\\quad (\\text{v}) \\:  f=7700$Hz $\\:$ and $\\: (\\text{vi}) \\:  f=7850$Hz"
   ]
  },
  {
   "cell_type": "code",
   "execution_count": 4,
   "id": "30a4ee86",
   "metadata": {
    "deletable": false
   },
   "outputs": [
    {
     "data": {
      "image/png": "[encoded data removed]",
      "text/plain": [
       "<Figure size 432x288 with 1 Axes>"
      ]
     },
     "metadata": {
      "needs_background": "light"
     },
     "output_type": "display_data"
    }
   ],
   "source": [
    "import numpy as np\n",
    "import matplotlib.pyplot as plt\n",
    "\n",
    "from functions.lab_functions import sinegen\n",
    "from functions.lab_functions import plot_signal\n",
    "\n",
    "fs = 8000\n",
    "fsig = 150# change the value of fsig for parts (i) to (vi)\n",
    "Nsamp = 100\n",
    "t, x = sinegen(fs, fsig, Nsamp)\n",
    "\n",
    "plt = plot_signal(t, x, title='Sine Wave ' + str(fsig) + 'Hz', xlabel='Time [sample index]', ylabel='Amplitude')\n",
    "plt.savefig('results/ex2/ex2_sine_' + str(fsig) + '_hz.pdf')\n",
    "plt.show()"
   ]
  },
  {
   "cell_type": "markdown",
   "id": "0237441c",
   "metadata": {
    "deletable": false,
    "editable": false
   },
   "source": [
    "The plots created above (e.g. `ex2_sine_150_hz.pdf`) will have also been saved to the `/results/ex2/` folder so you now have a record of all the plots.\n",
    "\n",
    "**Question 2.1**: Describe and discuss the results for (i)-(iii) and (iv)-(vi).\n",
    "\n",
    "**Question 2.2**: Predict the results for frequencies $f=24150$Hz, $\\: f=24300$Hz and $\\: f=24600$Hz and confirm your prediction with Python.\n",
    "\n",
    "**Question 2.3**: Consider $x(t)=\\cos(100\\pi t)$\n",
    "\n",
    "$\\quad$(a) Determine the minimum sampling rate to avoid aliasing\n",
    "\n",
    "$\\quad$(b) Write down an expression for $x[n]$ if a sampling frequency of 200Hz is used.\n",
    "\n",
    "$\\quad$(c) Write down an expression for $x[n]$ if a sampling frequency of 75Hz is used.\n",
    "\n",
    "**Question 2.4**: If the sampling frequency is 48 kHz, what is the normalised angular frequency of the discrete-time signal corresponding to a sinusoid at 1.2 kHz?\n",
    "\n",
    "**Question 2.5**: Given a signal with a normalised angular frequency of $\\frac{\\pi}{4}$, what is its frequency expressed in terms of the sampling frequency, $f_s$?"
   ]
  }
 ],
 "metadata": {
  "colab": {
   "name": "SS_LAB.ipynb",
   "provenance": [],
   "toc_visible": true
  },
  "kernelspec": {
   "display_name": "Python 3.9.12 ('base')",
   "language": "python",
   "name": "python3"
  },
  "language_info": {
   "codemirror_mode": {
    "name": "ipython",
    "version": 3
   },
   "file_extension": ".py",
   "mimetype": "text/x-python",
   "name": "python",
   "nbconvert_exporter": "python",
   "pygments_lexer": "ipython3",
   "version": "3.9.12"
  },
  "vscode": {
   "interpreter": {
    "hash": "4ed58b19bb56cdf2456925ceb0cf7dcd8e6141b7cc506f3177b2df01722f43c8"
   }
  }
 },
 "nbformat": 4,
 "nbformat_minor": 5
}
