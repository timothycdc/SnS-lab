{
 "cells": [
  {
   "cell_type": "markdown",
   "id": "43607ab1",
   "metadata": {
    "deletable": false,
    "editable": false
   },
   "source": [
    "# Optional Exercise 5 - Impulse Response and Convolution (40 mins)\n",
    "\n",
    "## Objectives\n",
    "- To introduce linear convolution for discrete-time signals \n",
    "- To show that circular convolution in the time domain is equivalent to multiplication in the frequency domain for discrete-time signals\n",
    "\n",
    "## Video ([Backup Link](https://www.youtube.com/watch?v=aHRsuhWy470))"
   ]
  },
  {
   "cell_type": "code",
   "execution_count": 5,
   "id": "f5123b19",
   "metadata": {
    "deletable": false,
    "editable": false
   },
   "outputs": [
    {
     "data": {
      "text/html": [
       "<script> code_show=true;function code_toggle() {if (code_show){$('.cm-comment:contains(@hidden)').closest('div.input').hide();} else {$('.cm-comment:contains(@hidden)').closest('div.input').show();}code_show = !code_show} $( document ).ready(code_toggle);</script><center><iframe width=\"560\" height=\"315\" src=\"https://www.youtube.com/embed/aHRsuhWy470?rel=0&amp;controls=0&amp;showinfo=0\" frameborder=\"0\" allowfullscreen></iframe></center>"
      ],
      "text/plain": [
       "<IPython.core.display.HTML object>"
      ]
     },
     "execution_count": 5,
     "metadata": {},
     "output_type": "execute_result"
    }
   ],
   "source": [
    "# Embed Youtube video\n",
    "from IPython.display import HTML \n",
    "HTML('''<script> code_show=true;function code_toggle() {if (code_show){$('.cm-comment:contains(@hidden)').closest('div.input').hide();} else {$('.cm-comment:contains(@hidden)').closest('div.input').show();}code_show = !code_show} $( document ).ready(code_toggle);</script><center><iframe width=\"560\" height=\"315\" src=\"https://www.youtube.com/embed/aHRsuhWy470?rel=0&amp;controls=0&amp;showinfo=0\" frameborder=\"0\" allowfullscreen></iframe></center>''') # @hidden"
   ]
  },
  {
   "attachments": {},
   "cell_type": "markdown",
   "id": "897d8f22",
   "metadata": {
    "deletable": false,
    "editable": false
   },
   "source": [
    "## Lab Exercise\n",
    "<img src=\"img/ex5_1.svg\" alt=\"Drawing\" style=\"width: 900px; background:#fff\"/>\n",
    "<center>Figure 5.1: Impulse response of a filter</center>\n",
    "\n",
    "Suppose we apply a unit impulse function, $\\delta[n]$, as an input into a filter with $(N+1)$ taps or filter coefficients. The output denotes the impulse response of the digital filter, $h[n]$, as shown  in  Fig. 5.1. Since the discrete-time system is time-invariant, the filter response to $\\delta[n-k]$ is $h[n-k]$. \n",
    "\n",
    "In general, any input signal can be decomposed into a sum of impulses delayed by different amount and scaled by the signal value at the respective time samples i.e. $\\{x[0]\\delta[n], {x[1]\\delta[n-1]}, \\cdots, {x[N]\\delta[n-N]}\\}$. Consequently, the filter output is $y[n]=x[0]h[n]+x[1]{h[n-1]}+\\cdots+x[N]{h[n-N]}$, which is defined as linear convolution.\n",
    "\n",
    ">**<u>Example</u>** Consider a sequence of unit impulses of length $(N+1)$ as the input, $\\{\\delta[n],{\\delta[n-1]},\\cdots,{\\delta[n-N]}\\}$. Due to linearity, the response of the digital filter will be the sum of the outputs i.e. $y[n]=h[n]+{h[n-1]}+\\cdots+{h[n-N]}$. \n",
    "\n",
    "<img src=\"img/ex5_2.svg\" alt=\"Drawing\" style=\"width: 900px; background:#fff\"/>\n",
    "<center>Figure 5.2: Linear convolution in time domain</center>\n",
    "\n",
    "---\n",
    "**Definition:**\n",
    "$$\\text{Linear Convolution: }y[n]=x[n]*h[n]\\overset{\\Delta}{=}\\sum^\\infty_{k=-\\infty}x[k]h[n-k]$$\n",
    "\n",
    "---\n",
    "\n",
    "If we substitute $r$ for $n-k$ this becomes:\n",
    "$$y[n]=\\sum_{r=-\\infty}^{\\infty}h[r]x[n-r]$$\n",
    "\n",
    "Thus, for any linear time-invariant (LTI) filter, the output values consist of the sum of the past input values, weighted by the elements of the impulse response $h[n]$. This has been shown in Fig. 6.2. \n",
    "\n",
    "**Question 5.1** What information is needed in order to compute the output of a discrete-time LTI system?\n",
    "\n",
    "**Question 5.2** We now know that $h[n]$ is the impulse response of a filter. How can you obtain its frequency response?\n",
    "\n",
    "For the example presented in Fig. 5.2, let us the replicate the results. You can perform linear convolution in Python using the `np.convolve()` function."
   ]
  },
  {
   "cell_type": "code",
   "execution_count": 6,
   "id": "81ba490f",
   "metadata": {
    "deletable": false
   },
   "outputs": [
    {
     "data": {
      "image/png": "[encoded data removed]",
      "text/plain": [
       "<Figure size 432x288 with 1 Axes>"
      ]
     },
     "metadata": {
      "needs_background": "light"
     },
     "output_type": "display_data"
    }
   ],
   "source": [
    "import numpy as np\n",
    "import matplotlib.pyplot as plt\n",
    "from functions.lab_functions import plot_signal\n",
    "\n",
    "x = [0, 1, 1, 1]\n",
    "h = [0.6, 0.8, 1, 0.3]\n",
    "y = np.convolve(x, h);\n",
    "\n",
    "plt = plot_signal(y, title='Linear Convolution', xlabel='Time [sample no.]', ylabel='Amplitude', func='stem')\n",
    "plt.savefig('results/ex5/ex5_linear_convolution.pdf')\n",
    "plt.show()"
   ]
  },
  {
   "cell_type": "markdown",
   "id": "63e19dad",
   "metadata": {
    "deletable": false,
    "editable": false
   },
   "source": [
    "Earlier in Exercise 2, we learn that convolution in the time domain is equivalent to multiplication in the frequency domain. We should therefore be able to compute the same results in the frequency-domain using the `fft` and `ifft` functions."
   ]
  },
  {
   "cell_type": "code",
   "execution_count": 7,
   "id": "1dfd7ce6",
   "metadata": {
    "deletable": false
   },
   "outputs": [
    {
     "data": {
      "image/png": "[encoded data removed]",
      "text/plain": [
       "<Figure size 432x288 with 1 Axes>"
      ]
     },
     "metadata": {
      "needs_background": "light"
     },
     "output_type": "display_data"
    },
    {
     "data": {
      "image/png": "[encoded data removed]",
      "text/plain": [
       "<Figure size 432x288 with 1 Axes>"
      ]
     },
     "metadata": {
      "needs_background": "light"
     },
     "output_type": "display_data"
    }
   ],
   "source": [
    "from scipy.fft import fft\n",
    "from scipy.fft import ifft\n",
    "\n",
    "x = [0, 1, 1, 1]\n",
    "h = [0.6, 0.8, 1, 0.3]\n",
    "\n",
    "X = fft(x)\n",
    "H = fft(h)\n",
    "\n",
    "Y = X*H\n",
    "y = ifft(Y)\n",
    "\n",
    "plt = plot_signal(abs(Y), title='|Y[k]|', xlabel='Time [sample no.]', ylabel='Amplitude', func='stem')\n",
    "plt.show()\n",
    "\n",
    "plt = plot_signal(np.real(y), title='Circular Convolution', xlabel='Time [sample no.]', ylabel='Amplitude', func='stem')\n",
    "plt.savefig('results/ex5/ex5_circular_convolution.pdf')\n",
    "plt.show()"
   ]
  },
  {
   "cell_type": "markdown",
   "id": "4382312a",
   "metadata": {
    "deletable": false,
    "editable": false
   },
   "source": [
    "**Question 5.3**: Describe and explain why $y[n]$ computed using both methods namely, linear convolution and the DFT, are different.\n",
    "\n",
    "As a result of multiplication in the frequency-domain, the signal in the time-domain becomes periodic and the result is no longer a linear convolution. In fact for discrete-time signals, this multiplication in the frequency domain represents a different type of (periodic) convolution in the time domain, called **Circular Convolution** and is defined as\n",
    "\n",
    "---\n",
    "**Definition:**\n",
    "$$\\text{Circular Convolution: }y[n]=x[n] \\circledast_N h[n]\\overset{\\Delta}{=}\\sum^{N-1}_{k=0}x[k]h[(n-k)_{\\text{mod }N}]$$\n",
    "\n",
    "---\n",
    "\n",
    "**Question 5.4**: Using the definition, can you think of a way to make circular convolution the same as the linear convolution? If so, modify the code below to calculate the linear convolution using only the `fft` and `ifft` functions?\n",
    "\n",
    ">**GTA Tip**\n",
    ">\n",
    ">Google is your friend."
   ]
  },
  {
   "cell_type": "code",
   "execution_count": 8,
   "id": "8b542998",
   "metadata": {
    "deletable": false
   },
   "outputs": [
    {
     "data": {
      "image/png": "[encoded data removed]",
      "text/plain": [
       "<Figure size 432x288 with 1 Axes>"
      ]
     },
     "metadata": {
      "needs_background": "light"
     },
     "output_type": "display_data"
    }
   ],
   "source": [
    "# TO DO: Modify this code so the output is the linear convolution of x and h\n",
    "\n",
    "x = [0, 1, 1, 1]\n",
    "h = [0.6, 0.8, 1, 0.3]\n",
    "\n",
    "X = fft(x)\n",
    "H = fft(h)\n",
    "\n",
    "Y = X*H\n",
    "y = ifft(Y)\n",
    "\n",
    "plt = plot_signal(np.real(y), title='Linear Convolution (frequency domain method)', xlabel='Time [sample no.]', ylabel='Amplitude', func='stem')\n",
    "plt.show()"
   ]
  },
  {
   "cell_type": "markdown",
   "id": "c11da686",
   "metadata": {
    "deletable": false,
    "editable": false
   },
   "source": [
    "**Question 5.5**: Are there any differences between the linear convolution of a periodic signal and circular convolution?"
   ]
  }
 ],
 "metadata": {
  "kernelspec": {
   "display_name": "Python 3",
   "language": "python",
   "name": "python3"
  },
  "language_info": {
   "codemirror_mode": {
    "name": "ipython",
    "version": 3
   },
   "file_extension": ".py",
   "mimetype": "text/x-python",
   "name": "python",
   "nbconvert_exporter": "python",
   "pygments_lexer": "ipython3",
   "version": "3.5.6"
  }
 },
 "nbformat": 4,
 "nbformat_minor": 5
}
